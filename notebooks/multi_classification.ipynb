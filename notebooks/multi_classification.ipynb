{
 "cells": [
  {
   "cell_type": "markdown",
   "id": "58a83e97",
   "metadata": {},
   "source": [
    "# EEG Classification\n",
    "### DATAFRAME DESCRIPTION:\n",
    "\n",
    "We divided and shuffled every 4097 data points into 23 chunks, each chunk contains 178 data points for 1 second, and each data point is the value of the EEG recording at a different point in time. So now we have 23 x 500 = 11500 pieces of information(row), each information contains 178 data points for 1 second(column), the last column represents the label y {1,2,3,4,5}.\n",
    "\n",
    "\n",
    "\n",
    "### LABEL DESCRIPTION:\n",
    "\n",
    "* 5 - eyes open, means when they were recording the EEG signal of the brain the patient had their eyes open\n",
    "* 4 - eyes closed, means when they were recording the EEG signal the patient had their eyes closed\n",
    "* 3 - Yes they identify where the region of the tumor was in the brain and recording the EEG activity from the healthy brain area\n",
    "* 2 - They recorder the EEG from the area where the tumor was located\n",
    "* 1 - Recording of seizure activity\n",
    "\n",
    "### EEG Classification\n",
    "* eyes open vs eyes closed\n",
    "* seizure non-seizure\n",
    "* health brain area vs tumor brain area\n",
    "* eyes open vs eyes closed vs seizure vs health brain area vs tumor brain area"
   ]
  },
  {
   "cell_type": "code",
   "execution_count": 1,
   "id": "c9fcffc3",
   "metadata": {},
   "outputs": [],
   "source": [
    "# imports\n",
    "import sys\n",
    "import os\n",
    "import numpy as np\n",
    "import tensorflow as tf\n",
    "import pandas as pd\n",
    "import func.models as models\n",
    "import func.utils as utils\n",
    "from sklearn.model_selection import train_test_split"
   ]
  },
  {
   "cell_type": "code",
   "execution_count": 2,
   "id": "e17fc0b1",
   "metadata": {},
   "outputs": [],
   "source": [
    "DATA_PATH = '../data/raw.csv'"
   ]
  },
  {
   "cell_type": "code",
   "execution_count": 3,
   "id": "0c96e4d6",
   "metadata": {},
   "outputs": [
    {
     "data": {
      "text/html": [
       "<div>\n",
       "<style scoped>\n",
       "    .dataframe tbody tr th:only-of-type {\n",
       "        vertical-align: middle;\n",
       "    }\n",
       "\n",
       "    .dataframe tbody tr th {\n",
       "        vertical-align: top;\n",
       "    }\n",
       "\n",
       "    .dataframe thead th {\n",
       "        text-align: right;\n",
       "    }\n",
       "</style>\n",
       "<table border=\"1\" class=\"dataframe\">\n",
       "  <thead>\n",
       "    <tr style=\"text-align: right;\">\n",
       "      <th></th>\n",
       "      <th>X1</th>\n",
       "      <th>X2</th>\n",
       "      <th>X3</th>\n",
       "      <th>X4</th>\n",
       "      <th>X5</th>\n",
       "      <th>X6</th>\n",
       "      <th>X7</th>\n",
       "      <th>X8</th>\n",
       "      <th>X9</th>\n",
       "      <th>X10</th>\n",
       "      <th>...</th>\n",
       "      <th>X170</th>\n",
       "      <th>X171</th>\n",
       "      <th>X172</th>\n",
       "      <th>X173</th>\n",
       "      <th>X174</th>\n",
       "      <th>X175</th>\n",
       "      <th>X176</th>\n",
       "      <th>X177</th>\n",
       "      <th>X178</th>\n",
       "      <th>y</th>\n",
       "    </tr>\n",
       "    <tr>\n",
       "      <th>Unnamed</th>\n",
       "      <th></th>\n",
       "      <th></th>\n",
       "      <th></th>\n",
       "      <th></th>\n",
       "      <th></th>\n",
       "      <th></th>\n",
       "      <th></th>\n",
       "      <th></th>\n",
       "      <th></th>\n",
       "      <th></th>\n",
       "      <th></th>\n",
       "      <th></th>\n",
       "      <th></th>\n",
       "      <th></th>\n",
       "      <th></th>\n",
       "      <th></th>\n",
       "      <th></th>\n",
       "      <th></th>\n",
       "      <th></th>\n",
       "      <th></th>\n",
       "      <th></th>\n",
       "    </tr>\n",
       "  </thead>\n",
       "  <tbody>\n",
       "    <tr>\n",
       "      <th>X21.V1.791</th>\n",
       "      <td>135</td>\n",
       "      <td>190</td>\n",
       "      <td>229</td>\n",
       "      <td>223</td>\n",
       "      <td>192</td>\n",
       "      <td>125</td>\n",
       "      <td>55</td>\n",
       "      <td>-9</td>\n",
       "      <td>-33</td>\n",
       "      <td>-38</td>\n",
       "      <td>...</td>\n",
       "      <td>-17</td>\n",
       "      <td>-15</td>\n",
       "      <td>-31</td>\n",
       "      <td>-77</td>\n",
       "      <td>-103</td>\n",
       "      <td>-127</td>\n",
       "      <td>-116</td>\n",
       "      <td>-83</td>\n",
       "      <td>-51</td>\n",
       "      <td>4</td>\n",
       "    </tr>\n",
       "    <tr>\n",
       "      <th>X15.V1.924</th>\n",
       "      <td>386</td>\n",
       "      <td>382</td>\n",
       "      <td>356</td>\n",
       "      <td>331</td>\n",
       "      <td>320</td>\n",
       "      <td>315</td>\n",
       "      <td>307</td>\n",
       "      <td>272</td>\n",
       "      <td>244</td>\n",
       "      <td>232</td>\n",
       "      <td>...</td>\n",
       "      <td>164</td>\n",
       "      <td>150</td>\n",
       "      <td>146</td>\n",
       "      <td>152</td>\n",
       "      <td>157</td>\n",
       "      <td>156</td>\n",
       "      <td>154</td>\n",
       "      <td>143</td>\n",
       "      <td>129</td>\n",
       "      <td>1</td>\n",
       "    </tr>\n",
       "    <tr>\n",
       "      <th>X8.V1.1</th>\n",
       "      <td>-32</td>\n",
       "      <td>-39</td>\n",
       "      <td>-47</td>\n",
       "      <td>-37</td>\n",
       "      <td>-32</td>\n",
       "      <td>-36</td>\n",
       "      <td>-57</td>\n",
       "      <td>-73</td>\n",
       "      <td>-85</td>\n",
       "      <td>-94</td>\n",
       "      <td>...</td>\n",
       "      <td>57</td>\n",
       "      <td>64</td>\n",
       "      <td>48</td>\n",
       "      <td>19</td>\n",
       "      <td>-12</td>\n",
       "      <td>-30</td>\n",
       "      <td>-35</td>\n",
       "      <td>-35</td>\n",
       "      <td>-36</td>\n",
       "      <td>5</td>\n",
       "    </tr>\n",
       "    <tr>\n",
       "      <th>X16.V1.60</th>\n",
       "      <td>-105</td>\n",
       "      <td>-101</td>\n",
       "      <td>-96</td>\n",
       "      <td>-92</td>\n",
       "      <td>-89</td>\n",
       "      <td>-95</td>\n",
       "      <td>-102</td>\n",
       "      <td>-100</td>\n",
       "      <td>-87</td>\n",
       "      <td>-79</td>\n",
       "      <td>...</td>\n",
       "      <td>-82</td>\n",
       "      <td>-81</td>\n",
       "      <td>-80</td>\n",
       "      <td>-77</td>\n",
       "      <td>-85</td>\n",
       "      <td>-77</td>\n",
       "      <td>-72</td>\n",
       "      <td>-69</td>\n",
       "      <td>-65</td>\n",
       "      <td>5</td>\n",
       "    </tr>\n",
       "    <tr>\n",
       "      <th>X20.V1.54</th>\n",
       "      <td>-9</td>\n",
       "      <td>-65</td>\n",
       "      <td>-98</td>\n",
       "      <td>-102</td>\n",
       "      <td>-78</td>\n",
       "      <td>-48</td>\n",
       "      <td>-16</td>\n",
       "      <td>0</td>\n",
       "      <td>-21</td>\n",
       "      <td>-59</td>\n",
       "      <td>...</td>\n",
       "      <td>4</td>\n",
       "      <td>2</td>\n",
       "      <td>-12</td>\n",
       "      <td>-32</td>\n",
       "      <td>-41</td>\n",
       "      <td>-65</td>\n",
       "      <td>-83</td>\n",
       "      <td>-89</td>\n",
       "      <td>-73</td>\n",
       "      <td>5</td>\n",
       "    </tr>\n",
       "    <tr>\n",
       "      <th>...</th>\n",
       "      <td>...</td>\n",
       "      <td>...</td>\n",
       "      <td>...</td>\n",
       "      <td>...</td>\n",
       "      <td>...</td>\n",
       "      <td>...</td>\n",
       "      <td>...</td>\n",
       "      <td>...</td>\n",
       "      <td>...</td>\n",
       "      <td>...</td>\n",
       "      <td>...</td>\n",
       "      <td>...</td>\n",
       "      <td>...</td>\n",
       "      <td>...</td>\n",
       "      <td>...</td>\n",
       "      <td>...</td>\n",
       "      <td>...</td>\n",
       "      <td>...</td>\n",
       "      <td>...</td>\n",
       "      <td>...</td>\n",
       "      <td>...</td>\n",
       "    </tr>\n",
       "    <tr>\n",
       "      <th>X22.V1.114</th>\n",
       "      <td>-22</td>\n",
       "      <td>-22</td>\n",
       "      <td>-23</td>\n",
       "      <td>-26</td>\n",
       "      <td>-36</td>\n",
       "      <td>-42</td>\n",
       "      <td>-45</td>\n",
       "      <td>-42</td>\n",
       "      <td>-45</td>\n",
       "      <td>-49</td>\n",
       "      <td>...</td>\n",
       "      <td>15</td>\n",
       "      <td>16</td>\n",
       "      <td>12</td>\n",
       "      <td>5</td>\n",
       "      <td>-1</td>\n",
       "      <td>-18</td>\n",
       "      <td>-37</td>\n",
       "      <td>-47</td>\n",
       "      <td>-48</td>\n",
       "      <td>2</td>\n",
       "    </tr>\n",
       "    <tr>\n",
       "      <th>X19.V1.354</th>\n",
       "      <td>-47</td>\n",
       "      <td>-11</td>\n",
       "      <td>28</td>\n",
       "      <td>77</td>\n",
       "      <td>141</td>\n",
       "      <td>211</td>\n",
       "      <td>246</td>\n",
       "      <td>240</td>\n",
       "      <td>193</td>\n",
       "      <td>136</td>\n",
       "      <td>...</td>\n",
       "      <td>-65</td>\n",
       "      <td>-33</td>\n",
       "      <td>-7</td>\n",
       "      <td>14</td>\n",
       "      <td>27</td>\n",
       "      <td>48</td>\n",
       "      <td>77</td>\n",
       "      <td>117</td>\n",
       "      <td>170</td>\n",
       "      <td>1</td>\n",
       "    </tr>\n",
       "    <tr>\n",
       "      <th>X8.V1.28</th>\n",
       "      <td>14</td>\n",
       "      <td>6</td>\n",
       "      <td>-13</td>\n",
       "      <td>-16</td>\n",
       "      <td>10</td>\n",
       "      <td>26</td>\n",
       "      <td>27</td>\n",
       "      <td>-9</td>\n",
       "      <td>4</td>\n",
       "      <td>14</td>\n",
       "      <td>...</td>\n",
       "      <td>-65</td>\n",
       "      <td>-48</td>\n",
       "      <td>-61</td>\n",
       "      <td>-62</td>\n",
       "      <td>-67</td>\n",
       "      <td>-30</td>\n",
       "      <td>-2</td>\n",
       "      <td>-1</td>\n",
       "      <td>-8</td>\n",
       "      <td>5</td>\n",
       "    </tr>\n",
       "    <tr>\n",
       "      <th>X10.V1.932</th>\n",
       "      <td>-40</td>\n",
       "      <td>-25</td>\n",
       "      <td>-9</td>\n",
       "      <td>-12</td>\n",
       "      <td>-2</td>\n",
       "      <td>12</td>\n",
       "      <td>7</td>\n",
       "      <td>19</td>\n",
       "      <td>22</td>\n",
       "      <td>29</td>\n",
       "      <td>...</td>\n",
       "      <td>121</td>\n",
       "      <td>135</td>\n",
       "      <td>148</td>\n",
       "      <td>143</td>\n",
       "      <td>116</td>\n",
       "      <td>86</td>\n",
       "      <td>68</td>\n",
       "      <td>59</td>\n",
       "      <td>55</td>\n",
       "      <td>3</td>\n",
       "    </tr>\n",
       "    <tr>\n",
       "      <th>X16.V1.210</th>\n",
       "      <td>29</td>\n",
       "      <td>41</td>\n",
       "      <td>57</td>\n",
       "      <td>72</td>\n",
       "      <td>74</td>\n",
       "      <td>62</td>\n",
       "      <td>54</td>\n",
       "      <td>43</td>\n",
       "      <td>31</td>\n",
       "      <td>23</td>\n",
       "      <td>...</td>\n",
       "      <td>-59</td>\n",
       "      <td>-25</td>\n",
       "      <td>-4</td>\n",
       "      <td>2</td>\n",
       "      <td>5</td>\n",
       "      <td>4</td>\n",
       "      <td>-2</td>\n",
       "      <td>2</td>\n",
       "      <td>20</td>\n",
       "      <td>4</td>\n",
       "    </tr>\n",
       "  </tbody>\n",
       "</table>\n",
       "<p>11500 rows × 179 columns</p>\n",
       "</div>"
      ],
      "text/plain": [
       "             X1   X2   X3   X4   X5   X6   X7   X8   X9  X10  ...  X170  X171  \\\n",
       "Unnamed                                                       ...               \n",
       "X21.V1.791  135  190  229  223  192  125   55   -9  -33  -38  ...   -17   -15   \n",
       "X15.V1.924  386  382  356  331  320  315  307  272  244  232  ...   164   150   \n",
       "X8.V1.1     -32  -39  -47  -37  -32  -36  -57  -73  -85  -94  ...    57    64   \n",
       "X16.V1.60  -105 -101  -96  -92  -89  -95 -102 -100  -87  -79  ...   -82   -81   \n",
       "X20.V1.54    -9  -65  -98 -102  -78  -48  -16    0  -21  -59  ...     4     2   \n",
       "...         ...  ...  ...  ...  ...  ...  ...  ...  ...  ...  ...   ...   ...   \n",
       "X22.V1.114  -22  -22  -23  -26  -36  -42  -45  -42  -45  -49  ...    15    16   \n",
       "X19.V1.354  -47  -11   28   77  141  211  246  240  193  136  ...   -65   -33   \n",
       "X8.V1.28     14    6  -13  -16   10   26   27   -9    4   14  ...   -65   -48   \n",
       "X10.V1.932  -40  -25   -9  -12   -2   12    7   19   22   29  ...   121   135   \n",
       "X16.V1.210   29   41   57   72   74   62   54   43   31   23  ...   -59   -25   \n",
       "\n",
       "            X172  X173  X174  X175  X176  X177  X178  y  \n",
       "Unnamed                                                  \n",
       "X21.V1.791   -31   -77  -103  -127  -116   -83   -51  4  \n",
       "X15.V1.924   146   152   157   156   154   143   129  1  \n",
       "X8.V1.1       48    19   -12   -30   -35   -35   -36  5  \n",
       "X16.V1.60    -80   -77   -85   -77   -72   -69   -65  5  \n",
       "X20.V1.54    -12   -32   -41   -65   -83   -89   -73  5  \n",
       "...          ...   ...   ...   ...   ...   ...   ... ..  \n",
       "X22.V1.114    12     5    -1   -18   -37   -47   -48  2  \n",
       "X19.V1.354    -7    14    27    48    77   117   170  1  \n",
       "X8.V1.28     -61   -62   -67   -30    -2    -1    -8  5  \n",
       "X10.V1.932   148   143   116    86    68    59    55  3  \n",
       "X16.V1.210    -4     2     5     4    -2     2    20  4  \n",
       "\n",
       "[11500 rows x 179 columns]"
      ]
     },
     "execution_count": 3,
     "metadata": {},
     "output_type": "execute_result"
    }
   ],
   "source": [
    "df_raw = pd.read_csv(DATA_PATH, index_col=0)\n",
    "df_raw"
   ]
  },
  {
   "cell_type": "code",
   "execution_count": 4,
   "id": "07148c65",
   "metadata": {},
   "outputs": [
    {
     "data": {
      "text/plain": [
       "(11500, 179)"
      ]
     },
     "execution_count": 4,
     "metadata": {},
     "output_type": "execute_result"
    }
   ],
   "source": [
    "df_raw.shape"
   ]
  },
  {
   "cell_type": "markdown",
   "metadata": {},
   "source": [
    "## Data preprocessing"
   ]
  },
  {
   "cell_type": "code",
   "execution_count": 5,
   "id": "ee15d3a5",
   "metadata": {},
   "outputs": [],
   "source": [
    "# Get X_data and Y_data\n",
    "Y = np.asarray(df_raw['y'])\n",
    "Y_data = tf.keras.utils.to_categorical(Y)\n",
    "X_raw = np.asarray(df_raw.iloc[:,:-1])"
   ]
  },
  {
   "cell_type": "code",
   "execution_count": 6,
   "id": "9922fb25",
   "metadata": {},
   "outputs": [],
   "source": [
    "X_data = utils.normalize_data(X_raw)"
   ]
  },
  {
   "cell_type": "code",
   "execution_count": 7,
   "id": "3de3c22d",
   "metadata": {},
   "outputs": [],
   "source": [
    "# Split into train and test data\n",
    "X_train, X_test, Y_train, Y_test = train_test_split(X_data, Y_data, test_size=0.2, random_state=42)"
   ]
  },
  {
   "cell_type": "code",
   "execution_count": 8,
   "id": "2eeda155",
   "metadata": {},
   "outputs": [
    {
     "data": {
      "text/plain": [
       "(178,)"
      ]
     },
     "execution_count": 8,
     "metadata": {},
     "output_type": "execute_result"
    }
   ],
   "source": [
    "input_shape=X_train.shape[1:]\n",
    "input_shape"
   ]
  },
  {
   "cell_type": "markdown",
   "id": "d1f71104",
   "metadata": {},
   "source": [
    "### Multi Layer Perceptron"
   ]
  },
  {
   "cell_type": "code",
   "execution_count": 9,
   "id": "96f8b07a",
   "metadata": {},
   "outputs": [
    {
     "name": "stdout",
     "output_type": "stream",
     "text": [
      "Model: \"sequential\"\n",
      "_________________________________________________________________\n",
      " Layer (type)                Output Shape              Param #   \n",
      "=================================================================\n",
      " dense (Dense)               (None, 300)               53700     \n",
      "                                                                 \n",
      " dense_1 (Dense)             (None, 100)               30100     \n",
      "                                                                 \n",
      " dense_2 (Dense)             (None, 50)                5050      \n",
      "                                                                 \n",
      " dense_3 (Dense)             (None, 20)                1020      \n",
      "                                                                 \n",
      " dense_4 (Dense)             (None, 6)                 126       \n",
      "                                                                 \n",
      "=================================================================\n",
      "Total params: 89,996\n",
      "Trainable params: 89,996\n",
      "Non-trainable params: 0\n",
      "_________________________________________________________________\n"
     ]
    }
   ],
   "source": [
    "mlp = models.mlp_model(input_shape, True)\n",
    "mlp.summary()"
   ]
  },
  {
   "cell_type": "code",
   "execution_count": 10,
   "id": "c1ff3261",
   "metadata": {},
   "outputs": [
    {
     "name": "stdout",
     "output_type": "stream",
     "text": [
      "Epoch 1/20\n",
      "245/245 [==============================] - 1s 2ms/step - loss: 1.6348 - accuracy: 0.2028 - val_loss: 1.6091 - val_accuracy: 0.2101\n",
      "Epoch 2/20\n",
      "245/245 [==============================] - 0s 977us/step - loss: 1.6086 - accuracy: 0.2068 - val_loss: 1.5963 - val_accuracy: 0.2594\n",
      "Epoch 3/20\n",
      "245/245 [==============================] - 0s 1ms/step - loss: 1.4153 - accuracy: 0.3468 - val_loss: 1.3363 - val_accuracy: 0.3312\n",
      "Epoch 4/20\n",
      "245/245 [==============================] - 0s 1ms/step - loss: 1.2215 - accuracy: 0.4075 - val_loss: 1.1811 - val_accuracy: 0.4043\n",
      "Epoch 5/20\n",
      "245/245 [==============================] - 0s 964us/step - loss: 1.1890 - accuracy: 0.4161 - val_loss: 1.1809 - val_accuracy: 0.4058\n",
      "Epoch 6/20\n",
      "245/245 [==============================] - 0s 979us/step - loss: 1.1663 - accuracy: 0.4270 - val_loss: 1.1413 - val_accuracy: 0.4478\n",
      "Epoch 7/20\n",
      "245/245 [==============================] - 0s 996us/step - loss: 1.1594 - accuracy: 0.4308 - val_loss: 1.1692 - val_accuracy: 0.4000\n",
      "Epoch 8/20\n",
      "245/245 [==============================] - 0s 999us/step - loss: 1.1506 - accuracy: 0.4368 - val_loss: 1.1853 - val_accuracy: 0.3971\n",
      "Epoch 9/20\n",
      "245/245 [==============================] - 0s 958us/step - loss: 1.1431 - accuracy: 0.4375 - val_loss: 1.1471 - val_accuracy: 0.4275\n",
      "Epoch 10/20\n",
      "245/245 [==============================] - 0s 981us/step - loss: 1.1447 - accuracy: 0.4367 - val_loss: 1.1662 - val_accuracy: 0.4109\n",
      "Epoch 11/20\n",
      "245/245 [==============================] - 0s 956us/step - loss: 1.1348 - accuracy: 0.4510 - val_loss: 1.1141 - val_accuracy: 0.4638\n",
      "Epoch 12/20\n",
      "245/245 [==============================] - 0s 961us/step - loss: 1.1261 - accuracy: 0.4556 - val_loss: 1.0958 - val_accuracy: 0.4870\n",
      "Epoch 13/20\n",
      "245/245 [==============================] - 0s 978us/step - loss: 1.1271 - accuracy: 0.4561 - val_loss: 1.1093 - val_accuracy: 0.4493\n",
      "Epoch 14/20\n",
      "245/245 [==============================] - 0s 947us/step - loss: 1.1247 - accuracy: 0.4566 - val_loss: 1.1160 - val_accuracy: 0.4435\n",
      "Epoch 15/20\n",
      "245/245 [==============================] - 0s 952us/step - loss: 1.1218 - accuracy: 0.4542 - val_loss: 1.0833 - val_accuracy: 0.4833\n",
      "Epoch 16/20\n",
      "245/245 [==============================] - 0s 959us/step - loss: 1.1127 - accuracy: 0.4651 - val_loss: 1.0971 - val_accuracy: 0.4797\n",
      "Epoch 17/20\n",
      "245/245 [==============================] - 0s 971us/step - loss: 1.1180 - accuracy: 0.4577 - val_loss: 1.0989 - val_accuracy: 0.4812\n",
      "Epoch 18/20\n",
      "245/245 [==============================] - 0s 965us/step - loss: 1.1152 - accuracy: 0.4570 - val_loss: 1.1304 - val_accuracy: 0.4341\n",
      "Epoch 19/20\n",
      "245/245 [==============================] - 0s 960us/step - loss: 1.1134 - accuracy: 0.4591 - val_loss: 1.1219 - val_accuracy: 0.4478\n",
      "Epoch 20/20\n",
      "245/245 [==============================] - 0s 962us/step - loss: 1.1058 - accuracy: 0.4670 - val_loss: 1.1193 - val_accuracy: 0.4435\n"
     ]
    }
   ],
   "source": [
    "history = mlp.fit(X_train, Y_train, validation_split=0.15, epochs=20)"
   ]
  },
  {
   "cell_type": "code",
   "execution_count": 11,
   "id": "9a19b863",
   "metadata": {},
   "outputs": [
    {
     "data": {
      "image/png": "[encoded data removed]",
      "text/plain": [
       "<Figure size 432x288 with 1 Axes>"
      ]
     },
     "metadata": {
      "needs_background": "light"
     },
     "output_type": "display_data"
    }
   ],
   "source": [
    "utils.get_train_plot(history)"
   ]
  },
  {
   "cell_type": "code",
   "execution_count": 12,
   "id": "33965504",
   "metadata": {},
   "outputs": [
    {
     "name": "stdout",
     "output_type": "stream",
     "text": [
      "72/72 [==============================] - 0s 535us/step\n",
      "(2300,)\n",
      "(2300,)\n",
      "Training Accuracy: 0.45\n"
     ]
    }
   ],
   "source": [
    "utils.get_test_acc(mlp, X_test, Y_test)"
   ]
  },
  {
   "cell_type": "markdown",
   "id": "a293e5fd",
   "metadata": {},
   "source": [
    "### CNN"
   ]
  },
  {
   "cell_type": "code",
   "execution_count": 13,
   "id": "298fcfdf",
   "metadata": {},
   "outputs": [
    {
     "data": {
      "text/plain": [
       "(178, 1)"
      ]
     },
     "execution_count": 13,
     "metadata": {},
     "output_type": "execute_result"
    }
   ],
   "source": [
    "input_shape=X_train.shape[1],1\n",
    "input_shape"
   ]
  },
  {
   "cell_type": "code",
   "execution_count": 14,
   "id": "38eb0126",
   "metadata": {},
   "outputs": [
    {
     "name": "stdout",
     "output_type": "stream",
     "text": [
      "Model: \"sequential_1\"\n",
      "_________________________________________________________________\n",
      " Layer (type)                Output Shape              Param #   \n",
      "=================================================================\n",
      " conv1d (Conv1D)             (None, 176, 32)           128       \n",
      "                                                                 \n",
      " max_pooling1d (MaxPooling1D  (None, 88, 32)           0         \n",
      " )                                                               \n",
      "                                                                 \n",
      " conv1d_1 (Conv1D)           (None, 86, 16)            1552      \n",
      "                                                                 \n",
      " max_pooling1d_1 (MaxPooling  (None, 43, 16)           0         \n",
      " 1D)                                                             \n",
      "                                                                 \n",
      " conv1d_2 (Conv1D)           (None, 41, 32)            1568      \n",
      "                                                                 \n",
      " max_pooling1d_2 (MaxPooling  (None, 21, 32)           0         \n",
      " 1D)                                                             \n",
      "                                                                 \n",
      " conv1d_3 (Conv1D)           (None, 19, 64)            6208      \n",
      "                                                                 \n",
      " flatten (Flatten)           (None, 1216)              0         \n",
      "                                                                 \n",
      " dense_5 (Dense)             (None, 6)                 7302      \n",
      "                                                                 \n",
      "=================================================================\n",
      "Total params: 16,758\n",
      "Trainable params: 16,758\n",
      "Non-trainable params: 0\n",
      "_________________________________________________________________\n"
     ]
    }
   ],
   "source": [
    "cnn = models.cnn_model(input_shape, True)\n",
    "cnn.summary()"
   ]
  },
  {
   "cell_type": "code",
   "execution_count": 15,
   "id": "fd142463",
   "metadata": {},
   "outputs": [
    {
     "name": "stdout",
     "output_type": "stream",
     "text": [
      "Epoch 1/20\n",
      "245/245 [==============================] - 1s 4ms/step - loss: 1.6262 - accuracy: 0.1986 - val_loss: 1.6229 - val_accuracy: 0.2036\n",
      "Epoch 2/20\n",
      "245/245 [==============================] - 1s 3ms/step - loss: 1.6136 - accuracy: 0.1981 - val_loss: 1.6163 - val_accuracy: 0.2036\n",
      "Epoch 3/20\n",
      "245/245 [==============================] - 1s 3ms/step - loss: 1.3884 - accuracy: 0.3376 - val_loss: 1.2035 - val_accuracy: 0.3833\n",
      "Epoch 4/20\n",
      "245/245 [==============================] - 1s 3ms/step - loss: 1.1389 - accuracy: 0.4630 - val_loss: 1.0792 - val_accuracy: 0.5051\n",
      "Epoch 5/20\n",
      "245/245 [==============================] - 1s 3ms/step - loss: 1.0923 - accuracy: 0.4914 - val_loss: 1.0856 - val_accuracy: 0.5130\n",
      "Epoch 6/20\n",
      "245/245 [==============================] - 1s 3ms/step - loss: 1.0602 - accuracy: 0.5228 - val_loss: 1.0270 - val_accuracy: 0.5304\n",
      "Epoch 7/20\n",
      "245/245 [==============================] - 1s 3ms/step - loss: 1.0171 - accuracy: 0.5467 - val_loss: 0.9726 - val_accuracy: 0.5884\n",
      "Epoch 8/20\n",
      "245/245 [==============================] - 1s 3ms/step - loss: 0.9295 - accuracy: 0.5999 - val_loss: 0.8822 - val_accuracy: 0.6413\n",
      "Epoch 9/20\n",
      "245/245 [==============================] - 1s 3ms/step - loss: 0.8352 - accuracy: 0.6341 - val_loss: 0.7927 - val_accuracy: 0.6478\n",
      "Epoch 10/20\n",
      "245/245 [==============================] - 1s 3ms/step - loss: 0.7700 - accuracy: 0.6604 - val_loss: 0.7698 - val_accuracy: 0.6391\n",
      "Epoch 11/20\n",
      "245/245 [==============================] - 1s 3ms/step - loss: 0.7651 - accuracy: 0.6588 - val_loss: 0.7957 - val_accuracy: 0.6268\n",
      "Epoch 12/20\n",
      "245/245 [==============================] - 1s 3ms/step - loss: 0.7305 - accuracy: 0.6702 - val_loss: 0.7553 - val_accuracy: 0.6435\n",
      "Epoch 13/20\n",
      "245/245 [==============================] - 1s 3ms/step - loss: 0.7348 - accuracy: 0.6660 - val_loss: 0.7402 - val_accuracy: 0.6514\n",
      "Epoch 14/20\n",
      "245/245 [==============================] - 1s 3ms/step - loss: 0.7305 - accuracy: 0.6669 - val_loss: 0.7579 - val_accuracy: 0.6370\n",
      "Epoch 15/20\n",
      "245/245 [==============================] - 1s 3ms/step - loss: 0.7333 - accuracy: 0.6652 - val_loss: 0.7605 - val_accuracy: 0.6370\n",
      "Epoch 16/20\n",
      "245/245 [==============================] - 1s 3ms/step - loss: 0.7109 - accuracy: 0.6751 - val_loss: 0.7849 - val_accuracy: 0.6457\n",
      "Epoch 17/20\n",
      "245/245 [==============================] - 1s 3ms/step - loss: 0.7002 - accuracy: 0.6802 - val_loss: 0.7437 - val_accuracy: 0.6674\n",
      "Epoch 18/20\n",
      "245/245 [==============================] - 1s 3ms/step - loss: 0.7026 - accuracy: 0.6808 - val_loss: 0.7440 - val_accuracy: 0.6572\n",
      "Epoch 19/20\n",
      "245/245 [==============================] - 1s 3ms/step - loss: 0.6902 - accuracy: 0.6799 - val_loss: 0.7303 - val_accuracy: 0.6478\n",
      "Epoch 20/20\n",
      "245/245 [==============================] - 1s 3ms/step - loss: 0.6979 - accuracy: 0.6799 - val_loss: 0.7585 - val_accuracy: 0.6319\n"
     ]
    }
   ],
   "source": [
    "history = cnn.fit(X_train, Y_train, validation_split=0.15, epochs=20)"
   ]
  },
  {
   "cell_type": "code",
   "execution_count": 16,
   "id": "197a2f7c",
   "metadata": {},
   "outputs": [
    {
     "data": {
      "image/png": "[encoded data removed]",
      "text/plain": [
       "<Figure size 432x288 with 1 Axes>"
      ]
     },
     "metadata": {
      "needs_background": "light"
     },
     "output_type": "display_data"
    }
   ],
   "source": [
    "utils.get_train_plot(history)"
   ]
  },
  {
   "cell_type": "code",
   "execution_count": 17,
   "id": "1c0ed07b",
   "metadata": {},
   "outputs": [
    {
     "name": "stdout",
     "output_type": "stream",
     "text": [
      "72/72 [==============================] - 0s 1ms/step\n",
      "(2300,)\n",
      "(2300,)\n",
      "Training Accuracy: 0.6617391304347826\n"
     ]
    }
   ],
   "source": [
    "utils.get_test_acc(cnn, X_test, Y_test)"
   ]
  },
  {
   "cell_type": "markdown",
   "id": "1ab93160",
   "metadata": {},
   "source": [
    "### Bi-Directional LSTM"
   ]
  },
  {
   "cell_type": "code",
   "execution_count": 18,
   "id": "555b4308",
   "metadata": {},
   "outputs": [
    {
     "data": {
      "text/plain": [
       "(178, 1)"
      ]
     },
     "execution_count": 18,
     "metadata": {},
     "output_type": "execute_result"
    }
   ],
   "source": [
    "input_shape=X_train.shape[1],1\n",
    "input_shape"
   ]
  },
  {
   "cell_type": "code",
   "execution_count": 19,
   "id": "53564505",
   "metadata": {},
   "outputs": [
    {
     "name": "stdout",
     "output_type": "stream",
     "text": [
      "Model: \"sequential_2\"\n",
      "_________________________________________________________________\n",
      " Layer (type)                Output Shape              Param #   \n",
      "=================================================================\n",
      " conv1d_4 (Conv1D)           (None, 176, 32)           128       \n",
      "                                                                 \n",
      " max_pooling1d_3 (MaxPooling  (None, 88, 32)           0         \n",
      " 1D)                                                             \n",
      "                                                                 \n",
      " conv1d_5 (Conv1D)           (None, 86, 16)            1552      \n",
      "                                                                 \n",
      " max_pooling1d_4 (MaxPooling  (None, 43, 16)           0         \n",
      " 1D)                                                             \n",
      "                                                                 \n",
      " conv1d_6 (Conv1D)           (None, 41, 32)            1568      \n",
      "                                                                 \n",
      " max_pooling1d_5 (MaxPooling  (None, 21, 32)           0         \n",
      " 1D)                                                             \n",
      "                                                                 \n",
      " conv1d_7 (Conv1D)           (None, 19, 64)            6208      \n",
      "                                                                 \n",
      " flatten_1 (Flatten)         (None, 1216)              0         \n",
      "                                                                 \n",
      " dense_6 (Dense)             (None, 6)                 7302      \n",
      "                                                                 \n",
      "=================================================================\n",
      "Total params: 16,758\n",
      "Trainable params: 16,758\n",
      "Non-trainable params: 0\n",
      "_________________________________________________________________\n"
     ]
    }
   ],
   "source": [
    "blstm = models.cnn_model(input_shape, True)\n",
    "blstm.summary()"
   ]
  },
  {
   "cell_type": "code",
   "execution_count": 20,
   "id": "b8ba108e",
   "metadata": {},
   "outputs": [
    {
     "name": "stdout",
     "output_type": "stream",
     "text": [
      "Epoch 1/20\n",
      "245/245 [==============================] - 1s 3ms/step - loss: 0.6962 - accuracy: 0.6794 - val_loss: 0.7517 - val_accuracy: 0.6667\n",
      "Epoch 2/20\n",
      "245/245 [==============================] - 1s 3ms/step - loss: 0.6916 - accuracy: 0.6790 - val_loss: 0.7741 - val_accuracy: 0.6543\n",
      "Epoch 3/20\n",
      "245/245 [==============================] - 1s 3ms/step - loss: 0.6744 - accuracy: 0.6914 - val_loss: 0.7135 - val_accuracy: 0.6674\n",
      "Epoch 4/20\n",
      "245/245 [==============================] - 1s 3ms/step - loss: 0.6778 - accuracy: 0.6858 - val_loss: 0.7408 - val_accuracy: 0.6558\n",
      "Epoch 5/20\n",
      "245/245 [==============================] - 1s 3ms/step - loss: 0.6928 - accuracy: 0.6774 - val_loss: 0.7220 - val_accuracy: 0.6594\n",
      "Epoch 6/20\n",
      "245/245 [==============================] - 1s 3ms/step - loss: 0.6836 - accuracy: 0.6863 - val_loss: 0.7024 - val_accuracy: 0.6783\n",
      "Epoch 7/20\n",
      "245/245 [==============================] - 1s 3ms/step - loss: 0.6737 - accuracy: 0.6914 - val_loss: 0.7132 - val_accuracy: 0.6609\n",
      "Epoch 8/20\n",
      "245/245 [==============================] - 1s 3ms/step - loss: 0.6798 - accuracy: 0.6798 - val_loss: 0.7441 - val_accuracy: 0.6754\n",
      "Epoch 9/20\n",
      "245/245 [==============================] - 1s 3ms/step - loss: 0.6763 - accuracy: 0.6858 - val_loss: 0.7243 - val_accuracy: 0.6732\n",
      "Epoch 10/20\n",
      "245/245 [==============================] - 1s 3ms/step - loss: 0.6694 - accuracy: 0.6936 - val_loss: 0.7119 - val_accuracy: 0.6674\n",
      "Epoch 11/20\n",
      "245/245 [==============================] - 1s 3ms/step - loss: 0.6652 - accuracy: 0.6957 - val_loss: 0.7548 - val_accuracy: 0.6471\n",
      "Epoch 12/20\n",
      "245/245 [==============================] - 1s 3ms/step - loss: 0.6678 - accuracy: 0.6894 - val_loss: 0.6927 - val_accuracy: 0.6768\n",
      "Epoch 13/20\n",
      "245/245 [==============================] - 1s 3ms/step - loss: 0.6623 - accuracy: 0.6992 - val_loss: 0.7334 - val_accuracy: 0.6572\n",
      "Epoch 14/20\n",
      "245/245 [==============================] - 1s 3ms/step - loss: 0.6588 - accuracy: 0.6930 - val_loss: 0.7145 - val_accuracy: 0.6703\n",
      "Epoch 15/20\n",
      "245/245 [==============================] - 1s 3ms/step - loss: 0.6582 - accuracy: 0.7017 - val_loss: 0.7435 - val_accuracy: 0.6659\n",
      "Epoch 16/20\n",
      "245/245 [==============================] - 1s 3ms/step - loss: 0.6626 - accuracy: 0.6941 - val_loss: 0.7134 - val_accuracy: 0.6739\n",
      "Epoch 17/20\n",
      "245/245 [==============================] - 1s 3ms/step - loss: 0.6557 - accuracy: 0.6968 - val_loss: 0.7563 - val_accuracy: 0.6464\n",
      "Epoch 18/20\n",
      "245/245 [==============================] - 1s 3ms/step - loss: 0.6543 - accuracy: 0.7014 - val_loss: 0.7157 - val_accuracy: 0.6601\n",
      "Epoch 19/20\n",
      "245/245 [==============================] - 1s 3ms/step - loss: 0.6684 - accuracy: 0.6919 - val_loss: 0.8075 - val_accuracy: 0.6442\n",
      "Epoch 20/20\n",
      "245/245 [==============================] - 1s 3ms/step - loss: 0.6555 - accuracy: 0.6954 - val_loss: 0.7435 - val_accuracy: 0.6746\n"
     ]
    }
   ],
   "source": [
    "history = cnn.fit(X_train, Y_train, validation_split=0.15, epochs=20)"
   ]
  },
  {
   "cell_type": "code",
   "execution_count": 21,
   "id": "1b4cbf0b",
   "metadata": {},
   "outputs": [
    {
     "data": {
      "image/png": "[encoded data removed]",
      "text/plain": [
       "<Figure size 432x288 with 1 Axes>"
      ]
     },
     "metadata": {
      "needs_background": "light"
     },
     "output_type": "display_data"
    }
   ],
   "source": [
    "utils.get_train_plot(history)"
   ]
  },
  {
   "cell_type": "code",
   "execution_count": 22,
   "id": "cb92bf39",
   "metadata": {},
   "outputs": [
    {
     "name": "stdout",
     "output_type": "stream",
     "text": [
      "72/72 [==============================] - 0s 1ms/step\n",
      "(2300,)\n",
      "(2300,)\n",
      "Training Accuracy: 0.1782608695652174\n"
     ]
    }
   ],
   "source": [
    "utils.get_test_acc(blstm, X_test, Y_test)"
   ]
  },
  {
   "cell_type": "markdown",
   "id": "23cedb68",
   "metadata": {},
   "source": [
    "### CNN + Bi-Directional LSTM"
   ]
  },
  {
   "cell_type": "code",
   "execution_count": 23,
   "id": "a5f37bb3",
   "metadata": {},
   "outputs": [
    {
     "data": {
      "text/plain": [
       "(178, 1)"
      ]
     },
     "execution_count": 23,
     "metadata": {},
     "output_type": "execute_result"
    }
   ],
   "source": [
    "input_shape=X_train.shape[1],1\n",
    "input_shape"
   ]
  },
  {
   "cell_type": "code",
   "execution_count": 24,
   "id": "b04ca084",
   "metadata": {},
   "outputs": [
    {
     "name": "stdout",
     "output_type": "stream",
     "text": [
      "Model: \"sequential_3\"\n",
      "_________________________________________________________________\n",
      " Layer (type)                Output Shape              Param #   \n",
      "=================================================================\n",
      " conv1d_8 (Conv1D)           (None, 176, 32)           128       \n",
      "                                                                 \n",
      " max_pooling1d_6 (MaxPooling  (None, 88, 32)           0         \n",
      " 1D)                                                             \n",
      "                                                                 \n",
      " conv1d_9 (Conv1D)           (None, 86, 16)            1552      \n",
      "                                                                 \n",
      " max_pooling1d_7 (MaxPooling  (None, 43, 16)           0         \n",
      " 1D)                                                             \n",
      "                                                                 \n",
      " conv1d_10 (Conv1D)          (None, 41, 32)            1568      \n",
      "                                                                 \n",
      " max_pooling1d_8 (MaxPooling  (None, 21, 32)           0         \n",
      " 1D)                                                             \n",
      "                                                                 \n",
      " conv1d_11 (Conv1D)          (None, 19, 64)            6208      \n",
      "                                                                 \n",
      " flatten_2 (Flatten)         (None, 1216)              0         \n",
      "                                                                 \n",
      " dense_7 (Dense)             (None, 6)                 7302      \n",
      "                                                                 \n",
      "=================================================================\n",
      "Total params: 16,758\n",
      "Trainable params: 16,758\n",
      "Non-trainable params: 0\n",
      "_________________________________________________________________\n"
     ]
    }
   ],
   "source": [
    "cnn_blstm = models.cnn_model(input_shape, True)\n",
    "cnn_blstm.summary()"
   ]
  },
  {
   "cell_type": "code",
   "execution_count": 28,
   "id": "0d8f8019",
   "metadata": {},
   "outputs": [
    {
     "name": "stdout",
     "output_type": "stream",
     "text": [
      "Epoch 1/20\n",
      "245/245 [==============================] - 1s 4ms/step - loss: 0.6531 - accuracy: 0.7041 - val_loss: 0.7189 - val_accuracy: 0.6884\n",
      "Epoch 2/20\n",
      "245/245 [==============================] - 1s 4ms/step - loss: 0.6193 - accuracy: 0.7147 - val_loss: 0.7207 - val_accuracy: 0.6529\n",
      "Epoch 3/20\n",
      "245/245 [==============================] - 1s 4ms/step - loss: 0.6279 - accuracy: 0.7113 - val_loss: 0.7552 - val_accuracy: 0.6580\n",
      "Epoch 4/20\n",
      "245/245 [==============================] - 1s 4ms/step - loss: 0.6197 - accuracy: 0.7141 - val_loss: 0.7326 - val_accuracy: 0.6601\n",
      "Epoch 5/20\n",
      "245/245 [==============================] - 1s 4ms/step - loss: 0.6242 - accuracy: 0.7129 - val_loss: 0.7540 - val_accuracy: 0.6464\n",
      "Epoch 6/20\n",
      "245/245 [==============================] - 1s 4ms/step - loss: 0.6224 - accuracy: 0.7136 - val_loss: 0.7387 - val_accuracy: 0.6725\n",
      "Epoch 7/20\n",
      "245/245 [==============================] - 1s 4ms/step - loss: 0.6241 - accuracy: 0.7125 - val_loss: 0.7196 - val_accuracy: 0.6703\n",
      "Epoch 8/20\n",
      "245/245 [==============================] - 1s 4ms/step - loss: 0.6261 - accuracy: 0.7206 - val_loss: 0.7433 - val_accuracy: 0.6696\n",
      "Epoch 9/20\n",
      "245/245 [==============================] - 1s 4ms/step - loss: 0.6204 - accuracy: 0.7147 - val_loss: 0.8001 - val_accuracy: 0.6609\n",
      "Epoch 10/20\n",
      "245/245 [==============================] - 1s 4ms/step - loss: 0.6215 - accuracy: 0.7176 - val_loss: 0.7755 - val_accuracy: 0.6761\n",
      "Epoch 11/20\n",
      "245/245 [==============================] - 1s 4ms/step - loss: 0.6184 - accuracy: 0.7193 - val_loss: 0.7109 - val_accuracy: 0.6797\n",
      "Epoch 12/20\n",
      "245/245 [==============================] - 1s 4ms/step - loss: 0.6226 - accuracy: 0.7128 - val_loss: 0.7845 - val_accuracy: 0.6688\n",
      "Epoch 13/20\n",
      "245/245 [==============================] - 1s 4ms/step - loss: 0.6166 - accuracy: 0.7197 - val_loss: 0.7476 - val_accuracy: 0.6572\n",
      "Epoch 14/20\n",
      "245/245 [==============================] - 1s 4ms/step - loss: 0.6222 - accuracy: 0.7147 - val_loss: 0.7778 - val_accuracy: 0.6449\n",
      "Epoch 15/20\n",
      "245/245 [==============================] - 1s 4ms/step - loss: 0.6287 - accuracy: 0.7152 - val_loss: 0.7187 - val_accuracy: 0.6877\n",
      "Epoch 16/20\n",
      "245/245 [==============================] - 1s 4ms/step - loss: 0.6133 - accuracy: 0.7252 - val_loss: 0.7197 - val_accuracy: 0.6609\n",
      "Epoch 17/20\n",
      "245/245 [==============================] - 1s 4ms/step - loss: 0.6091 - accuracy: 0.7205 - val_loss: 0.7589 - val_accuracy: 0.6761\n",
      "Epoch 18/20\n",
      "245/245 [==============================] - 1s 4ms/step - loss: 0.6078 - accuracy: 0.7267 - val_loss: 0.7591 - val_accuracy: 0.6514\n",
      "Epoch 19/20\n",
      "245/245 [==============================] - 1s 4ms/step - loss: 0.6160 - accuracy: 0.7146 - val_loss: 0.7651 - val_accuracy: 0.6775\n",
      "Epoch 20/20\n",
      "245/245 [==============================] - 1s 4ms/step - loss: 0.6014 - accuracy: 0.7219 - val_loss: 0.7334 - val_accuracy: 0.6754\n"
     ]
    }
   ],
   "source": [
    "history = cnn.fit(X_train, Y_train, validation_split=0.15, epochs=20)"
   ]
  },
  {
   "cell_type": "code",
   "execution_count": 29,
   "id": "f8ee087d",
   "metadata": {},
   "outputs": [
    {
     "data": {
      "image/png": "[encoded data removed]",
      "text/plain": [
       "<Figure size 432x288 with 1 Axes>"
      ]
     },
     "metadata": {
      "needs_background": "light"
     },
     "output_type": "display_data"
    }
   ],
   "source": [
    "utils.get_train_plot(history)"
   ]
  },
  {
   "cell_type": "code",
   "execution_count": 30,
   "id": "5c3caaa8",
   "metadata": {},
   "outputs": [
    {
     "name": "stdout",
     "output_type": "stream",
     "text": [
      "72/72 [==============================] - 0s 1ms/step\n",
      "(2300,)\n",
      "(2300,)\n",
      "Training Accuracy: 0.19304347826086957\n"
     ]
    }
   ],
   "source": [
    "utils.get_test_acc(cnn_blstm, X_test, Y_test)"
   ]
  }
 ],
 "metadata": {
  "kernelspec": {
   "display_name": "Python 3.9.5 ('venv': venv)",
   "language": "python",
   "name": "python3"
  },
  "language_info": {
   "codemirror_mode": {
    "name": "ipython",
    "version": 3
   },
   "file_extension": ".py",
   "mimetype": "text/x-python",
   "name": "python",
   "nbconvert_exporter": "python",
   "pygments_lexer": "ipython3",
   "version": "3.9.5"
  },
  "vscode": {
   "interpreter": {
    "hash": "59d0ce9ed8d154613236b9a136278625029ff4c46c1c999027c4b5a366b72e68"
   }
  }
 },
 "nbformat": 4,
 "nbformat_minor": 5
}
