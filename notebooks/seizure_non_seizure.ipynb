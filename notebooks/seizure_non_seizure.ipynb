{
 "cells": [
  {
   "cell_type": "markdown",
   "id": "58a83e97",
   "metadata": {},
   "source": [
    "# EEG Classification\n",
    "### DATAFRAME DESCRIPTION:\n",
    "\n",
    "We divided and shuffled every 4097 data points into 23 chunks, each chunk contains 178 data points for 1 second, and each data point is the value of the EEG recording at a different point in time. So now we have 23 x 500 = 11500 pieces of information(row), each information contains 178 data points for 1 second(column), the last column represents the label y {1,2,3,4,5}.\n",
    "\n",
    "\n",
    "\n",
    "### LABEL DESCRIPTION:\n",
    "\n",
    "* 5 - eyes open, means when they were recording the EEG signal of the brain the patient had their eyes open\n",
    "* 4 - eyes closed, means when they were recording the EEG signal the patient had their eyes closed\n",
    "* 3 - Yes they identify where the region of the tumor was in the brain and recording the EEG activity from the healthy brain area\n",
    "* 2 - They recorder the EEG from the area where the tumor was located\n",
    "* 1 - Recording of seizure activity\n",
    "\n",
    "### EEG Classification\n",
    "* eyes open vs eyes closed\n",
    "* seizure non-seizure\n",
    "* health brain area vs tumor brain area\n",
    "* eyes open vs eyes closed vs seizure vs health brain area vs tumor brain area"
   ]
  },
  {
   "cell_type": "code",
   "execution_count": 1,
   "id": "c9fcffc3",
   "metadata": {},
   "outputs": [],
   "source": [
    "# imports\n",
    "import sys\n",
    "import os\n",
    "import numpy as np\n",
    "import tensorflow as tf\n",
    "import pandas as pd\n",
    "import func.models as models\n",
    "import func.utils as utils\n",
    "from sklearn.model_selection import train_test_split"
   ]
  },
  {
   "cell_type": "code",
   "execution_count": 2,
   "id": "e17fc0b1",
   "metadata": {},
   "outputs": [],
   "source": [
    "DATA_PATH = '../data/raw.csv'"
   ]
  },
  {
   "cell_type": "code",
   "execution_count": 3,
   "id": "0c96e4d6",
   "metadata": {},
   "outputs": [
    {
     "data": {
      "text/html": [
       "<div>\n",
       "<style scoped>\n",
       "    .dataframe tbody tr th:only-of-type {\n",
       "        vertical-align: middle;\n",
       "    }\n",
       "\n",
       "    .dataframe tbody tr th {\n",
       "        vertical-align: top;\n",
       "    }\n",
       "\n",
       "    .dataframe thead th {\n",
       "        text-align: right;\n",
       "    }\n",
       "</style>\n",
       "<table border=\"1\" class=\"dataframe\">\n",
       "  <thead>\n",
       "    <tr style=\"text-align: right;\">\n",
       "      <th></th>\n",
       "      <th>X1</th>\n",
       "      <th>X2</th>\n",
       "      <th>X3</th>\n",
       "      <th>X4</th>\n",
       "      <th>X5</th>\n",
       "      <th>X6</th>\n",
       "      <th>X7</th>\n",
       "      <th>X8</th>\n",
       "      <th>X9</th>\n",
       "      <th>X10</th>\n",
       "      <th>...</th>\n",
       "      <th>X170</th>\n",
       "      <th>X171</th>\n",
       "      <th>X172</th>\n",
       "      <th>X173</th>\n",
       "      <th>X174</th>\n",
       "      <th>X175</th>\n",
       "      <th>X176</th>\n",
       "      <th>X177</th>\n",
       "      <th>X178</th>\n",
       "      <th>y</th>\n",
       "    </tr>\n",
       "    <tr>\n",
       "      <th>Unnamed</th>\n",
       "      <th></th>\n",
       "      <th></th>\n",
       "      <th></th>\n",
       "      <th></th>\n",
       "      <th></th>\n",
       "      <th></th>\n",
       "      <th></th>\n",
       "      <th></th>\n",
       "      <th></th>\n",
       "      <th></th>\n",
       "      <th></th>\n",
       "      <th></th>\n",
       "      <th></th>\n",
       "      <th></th>\n",
       "      <th></th>\n",
       "      <th></th>\n",
       "      <th></th>\n",
       "      <th></th>\n",
       "      <th></th>\n",
       "      <th></th>\n",
       "      <th></th>\n",
       "    </tr>\n",
       "  </thead>\n",
       "  <tbody>\n",
       "    <tr>\n",
       "      <th>X21.V1.791</th>\n",
       "      <td>135</td>\n",
       "      <td>190</td>\n",
       "      <td>229</td>\n",
       "      <td>223</td>\n",
       "      <td>192</td>\n",
       "      <td>125</td>\n",
       "      <td>55</td>\n",
       "      <td>-9</td>\n",
       "      <td>-33</td>\n",
       "      <td>-38</td>\n",
       "      <td>...</td>\n",
       "      <td>-17</td>\n",
       "      <td>-15</td>\n",
       "      <td>-31</td>\n",
       "      <td>-77</td>\n",
       "      <td>-103</td>\n",
       "      <td>-127</td>\n",
       "      <td>-116</td>\n",
       "      <td>-83</td>\n",
       "      <td>-51</td>\n",
       "      <td>4</td>\n",
       "    </tr>\n",
       "    <tr>\n",
       "      <th>X15.V1.924</th>\n",
       "      <td>386</td>\n",
       "      <td>382</td>\n",
       "      <td>356</td>\n",
       "      <td>331</td>\n",
       "      <td>320</td>\n",
       "      <td>315</td>\n",
       "      <td>307</td>\n",
       "      <td>272</td>\n",
       "      <td>244</td>\n",
       "      <td>232</td>\n",
       "      <td>...</td>\n",
       "      <td>164</td>\n",
       "      <td>150</td>\n",
       "      <td>146</td>\n",
       "      <td>152</td>\n",
       "      <td>157</td>\n",
       "      <td>156</td>\n",
       "      <td>154</td>\n",
       "      <td>143</td>\n",
       "      <td>129</td>\n",
       "      <td>1</td>\n",
       "    </tr>\n",
       "    <tr>\n",
       "      <th>X8.V1.1</th>\n",
       "      <td>-32</td>\n",
       "      <td>-39</td>\n",
       "      <td>-47</td>\n",
       "      <td>-37</td>\n",
       "      <td>-32</td>\n",
       "      <td>-36</td>\n",
       "      <td>-57</td>\n",
       "      <td>-73</td>\n",
       "      <td>-85</td>\n",
       "      <td>-94</td>\n",
       "      <td>...</td>\n",
       "      <td>57</td>\n",
       "      <td>64</td>\n",
       "      <td>48</td>\n",
       "      <td>19</td>\n",
       "      <td>-12</td>\n",
       "      <td>-30</td>\n",
       "      <td>-35</td>\n",
       "      <td>-35</td>\n",
       "      <td>-36</td>\n",
       "      <td>5</td>\n",
       "    </tr>\n",
       "    <tr>\n",
       "      <th>X16.V1.60</th>\n",
       "      <td>-105</td>\n",
       "      <td>-101</td>\n",
       "      <td>-96</td>\n",
       "      <td>-92</td>\n",
       "      <td>-89</td>\n",
       "      <td>-95</td>\n",
       "      <td>-102</td>\n",
       "      <td>-100</td>\n",
       "      <td>-87</td>\n",
       "      <td>-79</td>\n",
       "      <td>...</td>\n",
       "      <td>-82</td>\n",
       "      <td>-81</td>\n",
       "      <td>-80</td>\n",
       "      <td>-77</td>\n",
       "      <td>-85</td>\n",
       "      <td>-77</td>\n",
       "      <td>-72</td>\n",
       "      <td>-69</td>\n",
       "      <td>-65</td>\n",
       "      <td>5</td>\n",
       "    </tr>\n",
       "    <tr>\n",
       "      <th>X20.V1.54</th>\n",
       "      <td>-9</td>\n",
       "      <td>-65</td>\n",
       "      <td>-98</td>\n",
       "      <td>-102</td>\n",
       "      <td>-78</td>\n",
       "      <td>-48</td>\n",
       "      <td>-16</td>\n",
       "      <td>0</td>\n",
       "      <td>-21</td>\n",
       "      <td>-59</td>\n",
       "      <td>...</td>\n",
       "      <td>4</td>\n",
       "      <td>2</td>\n",
       "      <td>-12</td>\n",
       "      <td>-32</td>\n",
       "      <td>-41</td>\n",
       "      <td>-65</td>\n",
       "      <td>-83</td>\n",
       "      <td>-89</td>\n",
       "      <td>-73</td>\n",
       "      <td>5</td>\n",
       "    </tr>\n",
       "    <tr>\n",
       "      <th>...</th>\n",
       "      <td>...</td>\n",
       "      <td>...</td>\n",
       "      <td>...</td>\n",
       "      <td>...</td>\n",
       "      <td>...</td>\n",
       "      <td>...</td>\n",
       "      <td>...</td>\n",
       "      <td>...</td>\n",
       "      <td>...</td>\n",
       "      <td>...</td>\n",
       "      <td>...</td>\n",
       "      <td>...</td>\n",
       "      <td>...</td>\n",
       "      <td>...</td>\n",
       "      <td>...</td>\n",
       "      <td>...</td>\n",
       "      <td>...</td>\n",
       "      <td>...</td>\n",
       "      <td>...</td>\n",
       "      <td>...</td>\n",
       "      <td>...</td>\n",
       "    </tr>\n",
       "    <tr>\n",
       "      <th>X22.V1.114</th>\n",
       "      <td>-22</td>\n",
       "      <td>-22</td>\n",
       "      <td>-23</td>\n",
       "      <td>-26</td>\n",
       "      <td>-36</td>\n",
       "      <td>-42</td>\n",
       "      <td>-45</td>\n",
       "      <td>-42</td>\n",
       "      <td>-45</td>\n",
       "      <td>-49</td>\n",
       "      <td>...</td>\n",
       "      <td>15</td>\n",
       "      <td>16</td>\n",
       "      <td>12</td>\n",
       "      <td>5</td>\n",
       "      <td>-1</td>\n",
       "      <td>-18</td>\n",
       "      <td>-37</td>\n",
       "      <td>-47</td>\n",
       "      <td>-48</td>\n",
       "      <td>2</td>\n",
       "    </tr>\n",
       "    <tr>\n",
       "      <th>X19.V1.354</th>\n",
       "      <td>-47</td>\n",
       "      <td>-11</td>\n",
       "      <td>28</td>\n",
       "      <td>77</td>\n",
       "      <td>141</td>\n",
       "      <td>211</td>\n",
       "      <td>246</td>\n",
       "      <td>240</td>\n",
       "      <td>193</td>\n",
       "      <td>136</td>\n",
       "      <td>...</td>\n",
       "      <td>-65</td>\n",
       "      <td>-33</td>\n",
       "      <td>-7</td>\n",
       "      <td>14</td>\n",
       "      <td>27</td>\n",
       "      <td>48</td>\n",
       "      <td>77</td>\n",
       "      <td>117</td>\n",
       "      <td>170</td>\n",
       "      <td>1</td>\n",
       "    </tr>\n",
       "    <tr>\n",
       "      <th>X8.V1.28</th>\n",
       "      <td>14</td>\n",
       "      <td>6</td>\n",
       "      <td>-13</td>\n",
       "      <td>-16</td>\n",
       "      <td>10</td>\n",
       "      <td>26</td>\n",
       "      <td>27</td>\n",
       "      <td>-9</td>\n",
       "      <td>4</td>\n",
       "      <td>14</td>\n",
       "      <td>...</td>\n",
       "      <td>-65</td>\n",
       "      <td>-48</td>\n",
       "      <td>-61</td>\n",
       "      <td>-62</td>\n",
       "      <td>-67</td>\n",
       "      <td>-30</td>\n",
       "      <td>-2</td>\n",
       "      <td>-1</td>\n",
       "      <td>-8</td>\n",
       "      <td>5</td>\n",
       "    </tr>\n",
       "    <tr>\n",
       "      <th>X10.V1.932</th>\n",
       "      <td>-40</td>\n",
       "      <td>-25</td>\n",
       "      <td>-9</td>\n",
       "      <td>-12</td>\n",
       "      <td>-2</td>\n",
       "      <td>12</td>\n",
       "      <td>7</td>\n",
       "      <td>19</td>\n",
       "      <td>22</td>\n",
       "      <td>29</td>\n",
       "      <td>...</td>\n",
       "      <td>121</td>\n",
       "      <td>135</td>\n",
       "      <td>148</td>\n",
       "      <td>143</td>\n",
       "      <td>116</td>\n",
       "      <td>86</td>\n",
       "      <td>68</td>\n",
       "      <td>59</td>\n",
       "      <td>55</td>\n",
       "      <td>3</td>\n",
       "    </tr>\n",
       "    <tr>\n",
       "      <th>X16.V1.210</th>\n",
       "      <td>29</td>\n",
       "      <td>41</td>\n",
       "      <td>57</td>\n",
       "      <td>72</td>\n",
       "      <td>74</td>\n",
       "      <td>62</td>\n",
       "      <td>54</td>\n",
       "      <td>43</td>\n",
       "      <td>31</td>\n",
       "      <td>23</td>\n",
       "      <td>...</td>\n",
       "      <td>-59</td>\n",
       "      <td>-25</td>\n",
       "      <td>-4</td>\n",
       "      <td>2</td>\n",
       "      <td>5</td>\n",
       "      <td>4</td>\n",
       "      <td>-2</td>\n",
       "      <td>2</td>\n",
       "      <td>20</td>\n",
       "      <td>4</td>\n",
       "    </tr>\n",
       "  </tbody>\n",
       "</table>\n",
       "<p>11500 rows × 179 columns</p>\n",
       "</div>"
      ],
      "text/plain": [
       "             X1   X2   X3   X4   X5   X6   X7   X8   X9  X10  ...  X170  X171  \\\n",
       "Unnamed                                                       ...               \n",
       "X21.V1.791  135  190  229  223  192  125   55   -9  -33  -38  ...   -17   -15   \n",
       "X15.V1.924  386  382  356  331  320  315  307  272  244  232  ...   164   150   \n",
       "X8.V1.1     -32  -39  -47  -37  -32  -36  -57  -73  -85  -94  ...    57    64   \n",
       "X16.V1.60  -105 -101  -96  -92  -89  -95 -102 -100  -87  -79  ...   -82   -81   \n",
       "X20.V1.54    -9  -65  -98 -102  -78  -48  -16    0  -21  -59  ...     4     2   \n",
       "...         ...  ...  ...  ...  ...  ...  ...  ...  ...  ...  ...   ...   ...   \n",
       "X22.V1.114  -22  -22  -23  -26  -36  -42  -45  -42  -45  -49  ...    15    16   \n",
       "X19.V1.354  -47  -11   28   77  141  211  246  240  193  136  ...   -65   -33   \n",
       "X8.V1.28     14    6  -13  -16   10   26   27   -9    4   14  ...   -65   -48   \n",
       "X10.V1.932  -40  -25   -9  -12   -2   12    7   19   22   29  ...   121   135   \n",
       "X16.V1.210   29   41   57   72   74   62   54   43   31   23  ...   -59   -25   \n",
       "\n",
       "            X172  X173  X174  X175  X176  X177  X178  y  \n",
       "Unnamed                                                  \n",
       "X21.V1.791   -31   -77  -103  -127  -116   -83   -51  4  \n",
       "X15.V1.924   146   152   157   156   154   143   129  1  \n",
       "X8.V1.1       48    19   -12   -30   -35   -35   -36  5  \n",
       "X16.V1.60    -80   -77   -85   -77   -72   -69   -65  5  \n",
       "X20.V1.54    -12   -32   -41   -65   -83   -89   -73  5  \n",
       "...          ...   ...   ...   ...   ...   ...   ... ..  \n",
       "X22.V1.114    12     5    -1   -18   -37   -47   -48  2  \n",
       "X19.V1.354    -7    14    27    48    77   117   170  1  \n",
       "X8.V1.28     -61   -62   -67   -30    -2    -1    -8  5  \n",
       "X10.V1.932   148   143   116    86    68    59    55  3  \n",
       "X16.V1.210    -4     2     5     4    -2     2    20  4  \n",
       "\n",
       "[11500 rows x 179 columns]"
      ]
     },
     "execution_count": 3,
     "metadata": {},
     "output_type": "execute_result"
    }
   ],
   "source": [
    "df_raw = pd.read_csv(DATA_PATH, index_col=0)\n",
    "df_raw"
   ]
  },
  {
   "cell_type": "code",
   "execution_count": 4,
   "id": "07148c65",
   "metadata": {},
   "outputs": [
    {
     "data": {
      "text/plain": [
       "(11500, 179)"
      ]
     },
     "execution_count": 4,
     "metadata": {},
     "output_type": "execute_result"
    }
   ],
   "source": [
    "df_raw.shape"
   ]
  },
  {
   "cell_type": "markdown",
   "metadata": {},
   "source": [
    "## Data preprocessing"
   ]
  },
  {
   "cell_type": "code",
   "execution_count": 5,
   "id": "738414fc",
   "metadata": {},
   "outputs": [
    {
     "data": {
      "text/plain": [
       "Unnamed\n",
       "X21.V1.791    0\n",
       "X15.V1.924    1\n",
       "X8.V1.1       0\n",
       "X16.V1.60     0\n",
       "X20.V1.54     0\n",
       "             ..\n",
       "X22.V1.114    0\n",
       "X19.V1.354    1\n",
       "X8.V1.28      0\n",
       "X10.V1.932    0\n",
       "X16.V1.210    0\n",
       "Name: y, Length: 11500, dtype: int64"
      ]
     },
     "execution_count": 5,
     "metadata": {},
     "output_type": "execute_result"
    }
   ],
   "source": [
    "# Correct data labels\n",
    "df_raw['y'] = df_raw['y'].replace({2:0, 3:0, 4:0, 5:0})\n",
    "df_raw['y']"
   ]
  },
  {
   "cell_type": "code",
   "execution_count": 6,
   "id": "ee15d3a5",
   "metadata": {},
   "outputs": [],
   "source": [
    "# Get X_data and Y_data\n",
    "Y = np.asarray(df_raw['y'])\n",
    "Y_data = tf.keras.utils.to_categorical(Y)\n",
    "X_raw = np.asarray(df_raw.iloc[:,:-1])"
   ]
  },
  {
   "cell_type": "code",
   "execution_count": 7,
   "id": "9922fb25",
   "metadata": {},
   "outputs": [],
   "source": [
    "X_data = utils.normalize_data(X_raw)"
   ]
  },
  {
   "cell_type": "code",
   "execution_count": 8,
   "id": "3de3c22d",
   "metadata": {},
   "outputs": [],
   "source": [
    "# Split into train and test data\n",
    "X_train, X_test, Y_train, Y_test = train_test_split(X_data, Y_data, test_size=0.2, random_state=42)"
   ]
  },
  {
   "cell_type": "code",
   "execution_count": 9,
   "id": "2eeda155",
   "metadata": {},
   "outputs": [
    {
     "data": {
      "text/plain": [
       "(178,)"
      ]
     },
     "execution_count": 9,
     "metadata": {},
     "output_type": "execute_result"
    }
   ],
   "source": [
    "input_shape=X_train.shape[1:]\n",
    "input_shape"
   ]
  },
  {
   "cell_type": "markdown",
   "id": "d1f71104",
   "metadata": {},
   "source": [
    "### Multi Layer Perceptron"
   ]
  },
  {
   "cell_type": "code",
   "execution_count": 10,
   "id": "96f8b07a",
   "metadata": {},
   "outputs": [
    {
     "name": "stdout",
     "output_type": "stream",
     "text": [
      "Model: \"sequential\"\n",
      "_________________________________________________________________\n",
      " Layer (type)                Output Shape              Param #   \n",
      "=================================================================\n",
      " dense (Dense)               (None, 300)               53700     \n",
      "                                                                 \n",
      " dense_1 (Dense)             (None, 100)               30100     \n",
      "                                                                 \n",
      " dense_2 (Dense)             (None, 50)                5050      \n",
      "                                                                 \n",
      " dense_3 (Dense)             (None, 20)                1020      \n",
      "                                                                 \n",
      " dense_4 (Dense)             (None, 2)                 42        \n",
      "                                                                 \n",
      "=================================================================\n",
      "Total params: 89,912\n",
      "Trainable params: 89,912\n",
      "Non-trainable params: 0\n",
      "_________________________________________________________________\n"
     ]
    }
   ],
   "source": [
    "mlp = models.mlp_model(input_shape, False)\n",
    "mlp.summary()"
   ]
  },
  {
   "cell_type": "code",
   "execution_count": 11,
   "id": "c1ff3261",
   "metadata": {},
   "outputs": [
    {
     "name": "stdout",
     "output_type": "stream",
     "text": [
      "Epoch 1/20\n",
      "245/245 [==============================] - 1s 1ms/step - loss: 0.5106 - accuracy: 0.8023 - val_loss: 0.5195 - val_accuracy: 0.7797\n",
      "Epoch 2/20\n",
      "245/245 [==============================] - 0s 1ms/step - loss: 0.3871 - accuracy: 0.8439 - val_loss: 0.2266 - val_accuracy: 0.9080\n",
      "Epoch 3/20\n",
      "245/245 [==============================] - 0s 1ms/step - loss: 0.1485 - accuracy: 0.9510 - val_loss: 0.1590 - val_accuracy: 0.9413\n",
      "Epoch 4/20\n",
      "245/245 [==============================] - 0s 1ms/step - loss: 0.1114 - accuracy: 0.9632 - val_loss: 0.1342 - val_accuracy: 0.9696\n",
      "Epoch 5/20\n",
      "245/245 [==============================] - 0s 1ms/step - loss: 0.1027 - accuracy: 0.9669 - val_loss: 0.1067 - val_accuracy: 0.9652\n",
      "Epoch 6/20\n",
      "245/245 [==============================] - 0s 1ms/step - loss: 0.0965 - accuracy: 0.9674 - val_loss: 0.1326 - val_accuracy: 0.9543\n",
      "Epoch 7/20\n",
      "245/245 [==============================] - 0s 1ms/step - loss: 0.0879 - accuracy: 0.9710 - val_loss: 0.1670 - val_accuracy: 0.9522\n",
      "Epoch 8/20\n",
      "245/245 [==============================] - 0s 1ms/step - loss: 0.0889 - accuracy: 0.9702 - val_loss: 0.1431 - val_accuracy: 0.9587\n",
      "Epoch 9/20\n",
      "245/245 [==============================] - 0s 1ms/step - loss: 0.0863 - accuracy: 0.9719 - val_loss: 0.0895 - val_accuracy: 0.9703\n",
      "Epoch 10/20\n",
      "245/245 [==============================] - 0s 1ms/step - loss: 0.0849 - accuracy: 0.9712 - val_loss: 0.1083 - val_accuracy: 0.9652\n",
      "Epoch 11/20\n",
      "245/245 [==============================] - 0s 1ms/step - loss: 0.0788 - accuracy: 0.9735 - val_loss: 0.1038 - val_accuracy: 0.9616\n",
      "Epoch 12/20\n",
      "245/245 [==============================] - 0s 1ms/step - loss: 0.0805 - accuracy: 0.9721 - val_loss: 0.0909 - val_accuracy: 0.9681\n",
      "Epoch 13/20\n",
      "245/245 [==============================] - 0s 1ms/step - loss: 0.0737 - accuracy: 0.9729 - val_loss: 0.0862 - val_accuracy: 0.9696\n",
      "Epoch 14/20\n",
      "245/245 [==============================] - 0s 1ms/step - loss: 0.0763 - accuracy: 0.9728 - val_loss: 0.1032 - val_accuracy: 0.9674\n",
      "Epoch 15/20\n",
      "245/245 [==============================] - 0s 1ms/step - loss: 0.0738 - accuracy: 0.9734 - val_loss: 0.1189 - val_accuracy: 0.9609\n",
      "Epoch 16/20\n",
      "245/245 [==============================] - 0s 1ms/step - loss: 0.0709 - accuracy: 0.9749 - val_loss: 0.0983 - val_accuracy: 0.9645\n",
      "Epoch 17/20\n",
      "245/245 [==============================] - 0s 1ms/step - loss: 0.0656 - accuracy: 0.9769 - val_loss: 0.1236 - val_accuracy: 0.9645\n",
      "Epoch 18/20\n",
      "245/245 [==============================] - 0s 1ms/step - loss: 0.0663 - accuracy: 0.9740 - val_loss: 0.1184 - val_accuracy: 0.9609\n",
      "Epoch 19/20\n",
      "245/245 [==============================] - 0s 1ms/step - loss: 0.0671 - accuracy: 0.9746 - val_loss: 0.0969 - val_accuracy: 0.9645\n",
      "Epoch 20/20\n",
      "245/245 [==============================] - 0s 1ms/step - loss: 0.0653 - accuracy: 0.9748 - val_loss: 0.0786 - val_accuracy: 0.9739\n"
     ]
    }
   ],
   "source": [
    "history = mlp.fit(X_train, Y_train, validation_split=0.15, epochs=20)"
   ]
  },
  {
   "cell_type": "code",
   "execution_count": 12,
   "id": "9a19b863",
   "metadata": {},
   "outputs": [
    {
     "data": {
      "image/png": "[encoded data removed]",
      "text/plain": [
       "<Figure size 432x288 with 1 Axes>"
      ]
     },
     "metadata": {
      "needs_background": "light"
     },
     "output_type": "display_data"
    }
   ],
   "source": [
    "utils.get_train_plot(history)"
   ]
  },
  {
   "cell_type": "code",
   "execution_count": 13,
   "id": "33965504",
   "metadata": {},
   "outputs": [
    {
     "name": "stdout",
     "output_type": "stream",
     "text": [
      "72/72 [==============================] - 0s 536us/step\n",
      "(2300,)\n",
      "(2300,)\n",
      "Training Accuracy: 0.9721739130434782\n"
     ]
    }
   ],
   "source": [
    "utils.get_test_acc(mlp, X_test, Y_test)"
   ]
  },
  {
   "cell_type": "markdown",
   "id": "a293e5fd",
   "metadata": {},
   "source": [
    "### CNN"
   ]
  },
  {
   "cell_type": "code",
   "execution_count": 14,
   "id": "298fcfdf",
   "metadata": {},
   "outputs": [
    {
     "data": {
      "text/plain": [
       "(178, 1)"
      ]
     },
     "execution_count": 14,
     "metadata": {},
     "output_type": "execute_result"
    }
   ],
   "source": [
    "input_shape=X_train.shape[1],1\n",
    "input_shape"
   ]
  },
  {
   "cell_type": "code",
   "execution_count": 15,
   "id": "38eb0126",
   "metadata": {},
   "outputs": [
    {
     "name": "stdout",
     "output_type": "stream",
     "text": [
      "Model: \"sequential_1\"\n",
      "_________________________________________________________________\n",
      " Layer (type)                Output Shape              Param #   \n",
      "=================================================================\n",
      " conv1d (Conv1D)             (None, 176, 32)           128       \n",
      "                                                                 \n",
      " max_pooling1d (MaxPooling1D  (None, 88, 32)           0         \n",
      " )                                                               \n",
      "                                                                 \n",
      " conv1d_1 (Conv1D)           (None, 86, 16)            1552      \n",
      "                                                                 \n",
      " max_pooling1d_1 (MaxPooling  (None, 43, 16)           0         \n",
      " 1D)                                                             \n",
      "                                                                 \n",
      " conv1d_2 (Conv1D)           (None, 41, 32)            1568      \n",
      "                                                                 \n",
      " max_pooling1d_2 (MaxPooling  (None, 21, 32)           0         \n",
      " 1D)                                                             \n",
      "                                                                 \n",
      " conv1d_3 (Conv1D)           (None, 19, 64)            6208      \n",
      "                                                                 \n",
      " flatten (Flatten)           (None, 1216)              0         \n",
      "                                                                 \n",
      " dense_5 (Dense)             (None, 2)                 2434      \n",
      "                                                                 \n",
      "=================================================================\n",
      "Total params: 11,890\n",
      "Trainable params: 11,890\n",
      "Non-trainable params: 0\n",
      "_________________________________________________________________\n"
     ]
    }
   ],
   "source": [
    "cnn = models.cnn_model(input_shape, False)\n",
    "cnn.summary()"
   ]
  },
  {
   "cell_type": "code",
   "execution_count": 16,
   "id": "fd142463",
   "metadata": {},
   "outputs": [
    {
     "name": "stdout",
     "output_type": "stream",
     "text": [
      "Epoch 1/20\n",
      "245/245 [==============================] - 1s 4ms/step - loss: 0.5067 - accuracy: 0.8023 - val_loss: 0.5271 - val_accuracy: 0.7797\n",
      "Epoch 2/20\n",
      "245/245 [==============================] - 1s 4ms/step - loss: 0.4978 - accuracy: 0.8042 - val_loss: 0.5640 - val_accuracy: 0.7797\n",
      "Epoch 3/20\n",
      "245/245 [==============================] - 1s 4ms/step - loss: 0.4383 - accuracy: 0.8280 - val_loss: 0.3205 - val_accuracy: 0.9304\n",
      "Epoch 4/20\n",
      "245/245 [==============================] - 1s 4ms/step - loss: 0.1667 - accuracy: 0.9352 - val_loss: 0.1610 - val_accuracy: 0.9333\n",
      "Epoch 5/20\n",
      "245/245 [==============================] - 1s 4ms/step - loss: 0.1509 - accuracy: 0.9379 - val_loss: 0.1577 - val_accuracy: 0.9406\n",
      "Epoch 6/20\n",
      "245/245 [==============================] - 1s 4ms/step - loss: 0.1417 - accuracy: 0.9428 - val_loss: 0.1473 - val_accuracy: 0.9370\n",
      "Epoch 7/20\n",
      "245/245 [==============================] - 1s 4ms/step - loss: 0.1320 - accuracy: 0.9501 - val_loss: 0.1294 - val_accuracy: 0.9435\n",
      "Epoch 8/20\n",
      "245/245 [==============================] - 1s 4ms/step - loss: 0.1301 - accuracy: 0.9517 - val_loss: 0.1860 - val_accuracy: 0.9326\n",
      "Epoch 9/20\n",
      "245/245 [==============================] - 1s 4ms/step - loss: 0.1210 - accuracy: 0.9560 - val_loss: 0.1200 - val_accuracy: 0.9514\n",
      "Epoch 10/20\n",
      "245/245 [==============================] - 1s 4ms/step - loss: 0.1142 - accuracy: 0.9604 - val_loss: 0.1164 - val_accuracy: 0.9594\n",
      "Epoch 11/20\n",
      "245/245 [==============================] - 1s 4ms/step - loss: 0.1129 - accuracy: 0.9614 - val_loss: 0.1291 - val_accuracy: 0.9449\n",
      "Epoch 12/20\n",
      "245/245 [==============================] - 1s 4ms/step - loss: 0.1139 - accuracy: 0.9613 - val_loss: 0.1253 - val_accuracy: 0.9543\n",
      "Epoch 13/20\n",
      "245/245 [==============================] - 1s 4ms/step - loss: 0.1090 - accuracy: 0.9647 - val_loss: 0.1209 - val_accuracy: 0.9529\n",
      "Epoch 14/20\n",
      "245/245 [==============================] - 1s 4ms/step - loss: 0.1100 - accuracy: 0.9652 - val_loss: 0.1150 - val_accuracy: 0.9616\n",
      "Epoch 15/20\n",
      "245/245 [==============================] - 1s 3ms/step - loss: 0.1087 - accuracy: 0.9639 - val_loss: 0.1100 - val_accuracy: 0.9652\n",
      "Epoch 16/20\n",
      "245/245 [==============================] - 1s 3ms/step - loss: 0.1052 - accuracy: 0.9653 - val_loss: 0.1091 - val_accuracy: 0.9601\n",
      "Epoch 17/20\n",
      "245/245 [==============================] - 1s 3ms/step - loss: 0.1078 - accuracy: 0.9665 - val_loss: 0.1135 - val_accuracy: 0.9572\n",
      "Epoch 18/20\n",
      "245/245 [==============================] - 1s 3ms/step - loss: 0.1033 - accuracy: 0.9679 - val_loss: 0.1153 - val_accuracy: 0.9587\n",
      "Epoch 19/20\n",
      "245/245 [==============================] - 1s 3ms/step - loss: 0.1008 - accuracy: 0.9676 - val_loss: 0.1075 - val_accuracy: 0.9652\n",
      "Epoch 20/20\n",
      "245/245 [==============================] - 1s 3ms/step - loss: 0.1046 - accuracy: 0.9665 - val_loss: 0.1120 - val_accuracy: 0.9616\n"
     ]
    }
   ],
   "source": [
    "history = cnn.fit(X_train, Y_train, validation_split=0.15, epochs=20)"
   ]
  },
  {
   "cell_type": "code",
   "execution_count": 17,
   "id": "197a2f7c",
   "metadata": {},
   "outputs": [
    {
     "data": {
      "image/png": "[encoded data removed]",
      "text/plain": [
       "<Figure size 432x288 with 1 Axes>"
      ]
     },
     "metadata": {
      "needs_background": "light"
     },
     "output_type": "display_data"
    }
   ],
   "source": [
    "utils.get_train_plot(history)"
   ]
  },
  {
   "cell_type": "code",
   "execution_count": 18,
   "id": "1c0ed07b",
   "metadata": {},
   "outputs": [
    {
     "name": "stdout",
     "output_type": "stream",
     "text": [
      "72/72 [==============================] - 0s 1ms/step\n",
      "(2300,)\n",
      "(2300,)\n",
      "Training Accuracy: 0.9695652173913043\n"
     ]
    }
   ],
   "source": [
    "utils.get_test_acc(cnn, X_test, Y_test)"
   ]
  },
  {
   "cell_type": "markdown",
   "id": "1ab93160",
   "metadata": {},
   "source": [
    "### Bi-Directional LSTM"
   ]
  },
  {
   "cell_type": "code",
   "execution_count": 19,
   "id": "555b4308",
   "metadata": {},
   "outputs": [
    {
     "data": {
      "text/plain": [
       "(178, 1)"
      ]
     },
     "execution_count": 19,
     "metadata": {},
     "output_type": "execute_result"
    }
   ],
   "source": [
    "input_shape=X_train.shape[1],1\n",
    "input_shape"
   ]
  },
  {
   "cell_type": "code",
   "execution_count": 20,
   "id": "53564505",
   "metadata": {},
   "outputs": [
    {
     "name": "stdout",
     "output_type": "stream",
     "text": [
      "Model: \"sequential_2\"\n",
      "_________________________________________________________________\n",
      " Layer (type)                Output Shape              Param #   \n",
      "=================================================================\n",
      " conv1d_4 (Conv1D)           (None, 176, 32)           128       \n",
      "                                                                 \n",
      " max_pooling1d_3 (MaxPooling  (None, 88, 32)           0         \n",
      " 1D)                                                             \n",
      "                                                                 \n",
      " conv1d_5 (Conv1D)           (None, 86, 16)            1552      \n",
      "                                                                 \n",
      " max_pooling1d_4 (MaxPooling  (None, 43, 16)           0         \n",
      " 1D)                                                             \n",
      "                                                                 \n",
      " conv1d_6 (Conv1D)           (None, 41, 32)            1568      \n",
      "                                                                 \n",
      " max_pooling1d_5 (MaxPooling  (None, 21, 32)           0         \n",
      " 1D)                                                             \n",
      "                                                                 \n",
      " conv1d_7 (Conv1D)           (None, 19, 64)            6208      \n",
      "                                                                 \n",
      " flatten_1 (Flatten)         (None, 1216)              0         \n",
      "                                                                 \n",
      " dense_6 (Dense)             (None, 2)                 2434      \n",
      "                                                                 \n",
      "=================================================================\n",
      "Total params: 11,890\n",
      "Trainable params: 11,890\n",
      "Non-trainable params: 0\n",
      "_________________________________________________________________\n"
     ]
    }
   ],
   "source": [
    "blstm = models.cnn_model(input_shape, False)\n",
    "blstm.summary()"
   ]
  },
  {
   "cell_type": "code",
   "execution_count": 21,
   "id": "b8ba108e",
   "metadata": {},
   "outputs": [
    {
     "name": "stdout",
     "output_type": "stream",
     "text": [
      "Epoch 1/20\n",
      "245/245 [==============================] - 1s 3ms/step - loss: 0.1051 - accuracy: 0.9669 - val_loss: 0.1378 - val_accuracy: 0.9420\n",
      "Epoch 2/20\n",
      "245/245 [==============================] - 1s 3ms/step - loss: 0.1085 - accuracy: 0.9648 - val_loss: 0.1131 - val_accuracy: 0.9667\n",
      "Epoch 3/20\n",
      "245/245 [==============================] - 1s 3ms/step - loss: 0.1054 - accuracy: 0.9669 - val_loss: 0.1126 - val_accuracy: 0.9659\n",
      "Epoch 4/20\n",
      "245/245 [==============================] - 1s 3ms/step - loss: 0.1006 - accuracy: 0.9668 - val_loss: 0.1190 - val_accuracy: 0.9645\n",
      "Epoch 5/20\n",
      "245/245 [==============================] - 1s 3ms/step - loss: 0.1001 - accuracy: 0.9662 - val_loss: 0.1128 - val_accuracy: 0.9609\n",
      "Epoch 6/20\n",
      "245/245 [==============================] - 1s 3ms/step - loss: 0.1028 - accuracy: 0.9676 - val_loss: 0.1361 - val_accuracy: 0.9486\n",
      "Epoch 7/20\n",
      "245/245 [==============================] - 1s 3ms/step - loss: 0.0981 - accuracy: 0.9676 - val_loss: 0.1241 - val_accuracy: 0.9558\n",
      "Epoch 8/20\n",
      "245/245 [==============================] - 1s 3ms/step - loss: 0.0966 - accuracy: 0.9674 - val_loss: 0.1067 - val_accuracy: 0.9645\n",
      "Epoch 9/20\n",
      "245/245 [==============================] - 1s 3ms/step - loss: 0.1000 - accuracy: 0.9674 - val_loss: 0.1230 - val_accuracy: 0.9565\n",
      "Epoch 10/20\n",
      "245/245 [==============================] - 1s 3ms/step - loss: 0.0998 - accuracy: 0.9678 - val_loss: 0.1186 - val_accuracy: 0.9623\n",
      "Epoch 11/20\n",
      "245/245 [==============================] - 1s 3ms/step - loss: 0.0959 - accuracy: 0.9675 - val_loss: 0.1084 - val_accuracy: 0.9609\n",
      "Epoch 12/20\n",
      "245/245 [==============================] - 1s 3ms/step - loss: 0.0961 - accuracy: 0.9692 - val_loss: 0.1204 - val_accuracy: 0.9659\n",
      "Epoch 13/20\n",
      "245/245 [==============================] - 1s 3ms/step - loss: 0.1005 - accuracy: 0.9668 - val_loss: 0.1168 - val_accuracy: 0.9601\n",
      "Epoch 14/20\n",
      "245/245 [==============================] - 1s 3ms/step - loss: 0.0941 - accuracy: 0.9689 - val_loss: 0.1252 - val_accuracy: 0.9580\n",
      "Epoch 15/20\n",
      "245/245 [==============================] - 1s 3ms/step - loss: 0.0945 - accuracy: 0.9687 - val_loss: 0.1221 - val_accuracy: 0.9587\n",
      "Epoch 16/20\n",
      "245/245 [==============================] - 1s 3ms/step - loss: 0.0939 - accuracy: 0.9688 - val_loss: 0.1143 - val_accuracy: 0.9652\n",
      "Epoch 17/20\n",
      "245/245 [==============================] - 1s 3ms/step - loss: 0.0943 - accuracy: 0.9689 - val_loss: 0.1270 - val_accuracy: 0.9543\n",
      "Epoch 18/20\n",
      "245/245 [==============================] - 1s 4ms/step - loss: 0.0915 - accuracy: 0.9684 - val_loss: 0.1148 - val_accuracy: 0.9609\n",
      "Epoch 19/20\n",
      "245/245 [==============================] - 1s 4ms/step - loss: 0.0934 - accuracy: 0.9697 - val_loss: 0.1215 - val_accuracy: 0.9587\n",
      "Epoch 20/20\n",
      "245/245 [==============================] - 1s 4ms/step - loss: 0.0902 - accuracy: 0.9688 - val_loss: 0.1198 - val_accuracy: 0.9594\n"
     ]
    }
   ],
   "source": [
    "history = cnn.fit(X_train, Y_train, validation_split=0.15, epochs=20)"
   ]
  },
  {
   "cell_type": "code",
   "execution_count": 22,
   "id": "1b4cbf0b",
   "metadata": {},
   "outputs": [
    {
     "data": {
      "image/png": "[encoded data removed]",
      "text/plain": [
       "<Figure size 432x288 with 1 Axes>"
      ]
     },
     "metadata": {
      "needs_background": "light"
     },
     "output_type": "display_data"
    }
   ],
   "source": [
    "utils.get_train_plot(history)"
   ]
  },
  {
   "cell_type": "code",
   "execution_count": 23,
   "id": "cb92bf39",
   "metadata": {},
   "outputs": [
    {
     "name": "stdout",
     "output_type": "stream",
     "text": [
      "72/72 [==============================] - 0s 1ms/step\n",
      "(2300,)\n",
      "(2300,)\n",
      "Training Accuracy: 0.41\n"
     ]
    }
   ],
   "source": [
    "utils.get_test_acc(blstm, X_test, Y_test)"
   ]
  },
  {
   "cell_type": "markdown",
   "id": "23cedb68",
   "metadata": {},
   "source": [
    "### CNN + Bi-Directional LSTM"
   ]
  },
  {
   "cell_type": "code",
   "execution_count": 24,
   "id": "a5f37bb3",
   "metadata": {},
   "outputs": [
    {
     "data": {
      "text/plain": [
       "(178, 1)"
      ]
     },
     "execution_count": 24,
     "metadata": {},
     "output_type": "execute_result"
    }
   ],
   "source": [
    "input_shape=X_train.shape[1],1\n",
    "input_shape"
   ]
  },
  {
   "cell_type": "code",
   "execution_count": 25,
   "id": "b04ca084",
   "metadata": {},
   "outputs": [
    {
     "name": "stdout",
     "output_type": "stream",
     "text": [
      "Model: \"sequential_3\"\n",
      "_________________________________________________________________\n",
      " Layer (type)                Output Shape              Param #   \n",
      "=================================================================\n",
      " conv1d_8 (Conv1D)           (None, 176, 32)           128       \n",
      "                                                                 \n",
      " max_pooling1d_6 (MaxPooling  (None, 88, 32)           0         \n",
      " 1D)                                                             \n",
      "                                                                 \n",
      " conv1d_9 (Conv1D)           (None, 86, 16)            1552      \n",
      "                                                                 \n",
      " max_pooling1d_7 (MaxPooling  (None, 43, 16)           0         \n",
      " 1D)                                                             \n",
      "                                                                 \n",
      " conv1d_10 (Conv1D)          (None, 41, 32)            1568      \n",
      "                                                                 \n",
      " max_pooling1d_8 (MaxPooling  (None, 21, 32)           0         \n",
      " 1D)                                                             \n",
      "                                                                 \n",
      " conv1d_11 (Conv1D)          (None, 19, 64)            6208      \n",
      "                                                                 \n",
      " flatten_2 (Flatten)         (None, 1216)              0         \n",
      "                                                                 \n",
      " dense_7 (Dense)             (None, 2)                 2434      \n",
      "                                                                 \n",
      "=================================================================\n",
      "Total params: 11,890\n",
      "Trainable params: 11,890\n",
      "Non-trainable params: 0\n",
      "_________________________________________________________________\n"
     ]
    }
   ],
   "source": [
    "cnn_blstm = models.cnn_model(input_shape, False)\n",
    "cnn_blstm.summary()"
   ]
  },
  {
   "cell_type": "code",
   "execution_count": 26,
   "id": "0d8f8019",
   "metadata": {},
   "outputs": [
    {
     "name": "stdout",
     "output_type": "stream",
     "text": [
      "Epoch 1/20\n",
      "245/245 [==============================] - 1s 3ms/step - loss: 0.0908 - accuracy: 0.9696 - val_loss: 0.1738 - val_accuracy: 0.9457\n",
      "Epoch 2/20\n",
      "245/245 [==============================] - 1s 3ms/step - loss: 0.0944 - accuracy: 0.9682 - val_loss: 0.1195 - val_accuracy: 0.9572\n",
      "Epoch 3/20\n",
      "245/245 [==============================] - 1s 3ms/step - loss: 0.0888 - accuracy: 0.9701 - val_loss: 0.1124 - val_accuracy: 0.9616\n",
      "Epoch 4/20\n",
      "245/245 [==============================] - 1s 3ms/step - loss: 0.0912 - accuracy: 0.9692 - val_loss: 0.1237 - val_accuracy: 0.9565\n",
      "Epoch 5/20\n",
      "245/245 [==============================] - 1s 3ms/step - loss: 0.0901 - accuracy: 0.9685 - val_loss: 0.1139 - val_accuracy: 0.9609\n",
      "Epoch 6/20\n",
      "245/245 [==============================] - 1s 4ms/step - loss: 0.0883 - accuracy: 0.9708 - val_loss: 0.1097 - val_accuracy: 0.9659\n",
      "Epoch 7/20\n",
      "245/245 [==============================] - 1s 3ms/step - loss: 0.0902 - accuracy: 0.9703 - val_loss: 0.1337 - val_accuracy: 0.9529\n",
      "Epoch 8/20\n",
      "245/245 [==============================] - 1s 4ms/step - loss: 0.0923 - accuracy: 0.9706 - val_loss: 0.1734 - val_accuracy: 0.9428\n",
      "Epoch 9/20\n",
      "245/245 [==============================] - 1s 4ms/step - loss: 0.0888 - accuracy: 0.9702 - val_loss: 0.1284 - val_accuracy: 0.9565\n",
      "Epoch 10/20\n",
      "245/245 [==============================] - 1s 4ms/step - loss: 0.0873 - accuracy: 0.9711 - val_loss: 0.1114 - val_accuracy: 0.9645\n",
      "Epoch 11/20\n",
      "245/245 [==============================] - 1s 3ms/step - loss: 0.0869 - accuracy: 0.9703 - val_loss: 0.1254 - val_accuracy: 0.9551\n",
      "Epoch 12/20\n",
      "245/245 [==============================] - 1s 4ms/step - loss: 0.0903 - accuracy: 0.9706 - val_loss: 0.1224 - val_accuracy: 0.9630\n",
      "Epoch 13/20\n",
      "245/245 [==============================] - 1s 4ms/step - loss: 0.0850 - accuracy: 0.9728 - val_loss: 0.1149 - val_accuracy: 0.9609\n",
      "Epoch 14/20\n",
      "245/245 [==============================] - 1s 4ms/step - loss: 0.0868 - accuracy: 0.9706 - val_loss: 0.1144 - val_accuracy: 0.9616\n",
      "Epoch 15/20\n",
      "245/245 [==============================] - 1s 3ms/step - loss: 0.0844 - accuracy: 0.9707 - val_loss: 0.1325 - val_accuracy: 0.9522\n",
      "Epoch 16/20\n",
      "245/245 [==============================] - 1s 4ms/step - loss: 0.0819 - accuracy: 0.9733 - val_loss: 0.1163 - val_accuracy: 0.9609\n",
      "Epoch 17/20\n",
      "245/245 [==============================] - 1s 4ms/step - loss: 0.0837 - accuracy: 0.9724 - val_loss: 0.1209 - val_accuracy: 0.9558\n",
      "Epoch 18/20\n",
      "245/245 [==============================] - 1s 3ms/step - loss: 0.0828 - accuracy: 0.9731 - val_loss: 0.1129 - val_accuracy: 0.9594\n",
      "Epoch 19/20\n",
      "245/245 [==============================] - 1s 3ms/step - loss: 0.0825 - accuracy: 0.9725 - val_loss: 0.1147 - val_accuracy: 0.9580\n",
      "Epoch 20/20\n",
      "245/245 [==============================] - 1s 3ms/step - loss: 0.0822 - accuracy: 0.9717 - val_loss: 0.1793 - val_accuracy: 0.9457\n"
     ]
    }
   ],
   "source": [
    "history = cnn.fit(X_train, Y_train, validation_split=0.15, epochs=20)"
   ]
  },
  {
   "cell_type": "code",
   "execution_count": 27,
   "id": "f8ee087d",
   "metadata": {},
   "outputs": [
    {
     "data": {
      "image/png": "[encoded data removed]",
      "text/plain": [
       "<Figure size 432x288 with 1 Axes>"
      ]
     },
     "metadata": {
      "needs_background": "light"
     },
     "output_type": "display_data"
    }
   ],
   "source": [
    "utils.get_train_plot(history)"
   ]
  },
  {
   "cell_type": "code",
   "execution_count": 28,
   "id": "5c3caaa8",
   "metadata": {},
   "outputs": [
    {
     "name": "stdout",
     "output_type": "stream",
     "text": [
      "72/72 [==============================] - 0s 1ms/step\n",
      "(2300,)\n",
      "(2300,)\n",
      "Training Accuracy: 0.5482608695652174\n"
     ]
    }
   ],
   "source": [
    "utils.get_test_acc(cnn_blstm, X_test, Y_test)"
   ]
  }
 ],
 "metadata": {
  "kernelspec": {
   "display_name": "Python 3.9.5 ('venv': venv)",
   "language": "python",
   "name": "python3"
  },
  "language_info": {
   "codemirror_mode": {
    "name": "ipython",
    "version": 3
   },
   "file_extension": ".py",
   "mimetype": "text/x-python",
   "name": "python",
   "nbconvert_exporter": "python",
   "pygments_lexer": "ipython3",
   "version": "3.9.5"
  },
  "vscode": {
   "interpreter": {
    "hash": "59d0ce9ed8d154613236b9a136278625029ff4c46c1c999027c4b5a366b72e68"
   }
  }
 },
 "nbformat": 4,
 "nbformat_minor": 5
}
